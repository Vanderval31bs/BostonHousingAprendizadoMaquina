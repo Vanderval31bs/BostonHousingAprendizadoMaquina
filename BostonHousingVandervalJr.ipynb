{
  "nbformat": 4,
  "nbformat_minor": 0,
  "metadata": {
    "colab": {
      "name": "BostonHousingVandervalJr.ipynb",
      "provenance": [],
      "collapsed_sections": []
    },
    "kernelspec": {
      "name": "python3",
      "display_name": "Python 3"
    },
    "language_info": {
      "name": "python"
    }
  },
  "cells": [
    {
      "cell_type": "markdown",
      "source": [
        "#Introdução\n"
      ],
      "metadata": {
        "id": "ZPpzqnN4MRug"
      }
    },
    {
      "cell_type": "markdown",
      "source": [
        "Nesse trabalho, buscarei encontrar o melhor algoritmo para estimar o valor médio das casas de Boston ocupadas pelos proprietários a partir de outros atributos.\n",
        "\n",
        "Aqui já inicializamos o código:"
      ],
      "metadata": {
        "id": "W-xjBmqnMVou"
      }
    },
    {
      "cell_type": "code",
      "source": [
        "import numpy as np\n",
        "seed = 31 #Dia do meu nascimento. Fixa a aleatoriedade dos experimentos para que sejam reproduzíveis"
      ],
      "metadata": {
        "id": "7BozkGKrxTBS"
      },
      "execution_count": null,
      "outputs": []
    },
    {
      "cell_type": "markdown",
      "source": [
        "#Dados do problema\n",
        "\n",
        "Primeiro, vamos obter os dados do problema:\n"
      ],
      "metadata": {
        "id": "uIpwAAcYpTes"
      }
    },
    {
      "cell_type": "code",
      "source": [
        "import pandas as pd\n",
        "\n",
        "boston_housing = pd.read_csv(\"Boston.csv\", usecols=range(14))"
      ],
      "metadata": {
        "id": "GSr80wtqpmfb"
      },
      "execution_count": null,
      "outputs": []
    },
    {
      "cell_type": "markdown",
      "source": [
        "Vamos visualizar as primeiras linhas dos dados:"
      ],
      "metadata": {
        "id": "rXDopBREtiiN"
      }
    },
    {
      "cell_type": "code",
      "source": [
        "boston_housing.head()"
      ],
      "metadata": {
        "colab": {
          "base_uri": "https://localhost:8080/",
          "height": 206
        },
        "id": "SoZ8-wPSprjj",
        "outputId": "89cdb89a-5e76-42bb-e9e2-e1dc12b9cc22"
      },
      "execution_count": null,
      "outputs": [
        {
          "output_type": "execute_result",
          "data": {
            "text/html": [
              "\n",
              "  <div id=\"df-b790944b-b385-48e4-96df-f2ecaac25d74\">\n",
              "    <div class=\"colab-df-container\">\n",
              "      <div>\n",
              "<style scoped>\n",
              "    .dataframe tbody tr th:only-of-type {\n",
              "        vertical-align: middle;\n",
              "    }\n",
              "\n",
              "    .dataframe tbody tr th {\n",
              "        vertical-align: top;\n",
              "    }\n",
              "\n",
              "    .dataframe thead th {\n",
              "        text-align: right;\n",
              "    }\n",
              "</style>\n",
              "<table border=\"1\" class=\"dataframe\">\n",
              "  <thead>\n",
              "    <tr style=\"text-align: right;\">\n",
              "      <th></th>\n",
              "      <th>CRIM</th>\n",
              "      <th>ZN</th>\n",
              "      <th>INDUS</th>\n",
              "      <th>CHAS</th>\n",
              "      <th>NOX</th>\n",
              "      <th>RM</th>\n",
              "      <th>AGE</th>\n",
              "      <th>DIS</th>\n",
              "      <th>RAD</th>\n",
              "      <th>TAX</th>\n",
              "      <th>PTRATIO</th>\n",
              "      <th>B</th>\n",
              "      <th>LSTAT</th>\n",
              "      <th>MEDV</th>\n",
              "    </tr>\n",
              "  </thead>\n",
              "  <tbody>\n",
              "    <tr>\n",
              "      <th>0</th>\n",
              "      <td>0.00632</td>\n",
              "      <td>18.0</td>\n",
              "      <td>2.31</td>\n",
              "      <td>0</td>\n",
              "      <td>538.0</td>\n",
              "      <td>6575.0</td>\n",
              "      <td>65.2</td>\n",
              "      <td>4.0900</td>\n",
              "      <td>1</td>\n",
              "      <td>296</td>\n",
              "      <td>15.3</td>\n",
              "      <td>396.90</td>\n",
              "      <td>4.98</td>\n",
              "      <td>24.0</td>\n",
              "    </tr>\n",
              "    <tr>\n",
              "      <th>1</th>\n",
              "      <td>0.02731</td>\n",
              "      <td>0.0</td>\n",
              "      <td>7.07</td>\n",
              "      <td>0</td>\n",
              "      <td>469.0</td>\n",
              "      <td>6421.0</td>\n",
              "      <td>78.9</td>\n",
              "      <td>4.9671</td>\n",
              "      <td>2</td>\n",
              "      <td>242</td>\n",
              "      <td>17.8</td>\n",
              "      <td>396.90</td>\n",
              "      <td>9.14</td>\n",
              "      <td>21.6</td>\n",
              "    </tr>\n",
              "    <tr>\n",
              "      <th>2</th>\n",
              "      <td>0.02729</td>\n",
              "      <td>0.0</td>\n",
              "      <td>7.07</td>\n",
              "      <td>0</td>\n",
              "      <td>469.0</td>\n",
              "      <td>7185.0</td>\n",
              "      <td>61.1</td>\n",
              "      <td>4.9671</td>\n",
              "      <td>2</td>\n",
              "      <td>242</td>\n",
              "      <td>17.8</td>\n",
              "      <td>392.83</td>\n",
              "      <td>4.03</td>\n",
              "      <td>34.7</td>\n",
              "    </tr>\n",
              "    <tr>\n",
              "      <th>3</th>\n",
              "      <td>0.03237</td>\n",
              "      <td>0.0</td>\n",
              "      <td>2.18</td>\n",
              "      <td>0</td>\n",
              "      <td>458.0</td>\n",
              "      <td>6998.0</td>\n",
              "      <td>45.8</td>\n",
              "      <td>6.0622</td>\n",
              "      <td>3</td>\n",
              "      <td>222</td>\n",
              "      <td>18.7</td>\n",
              "      <td>394.63</td>\n",
              "      <td>2.94</td>\n",
              "      <td>33.4</td>\n",
              "    </tr>\n",
              "    <tr>\n",
              "      <th>4</th>\n",
              "      <td>0.06905</td>\n",
              "      <td>0.0</td>\n",
              "      <td>2.18</td>\n",
              "      <td>0</td>\n",
              "      <td>458.0</td>\n",
              "      <td>7147.0</td>\n",
              "      <td>54.2</td>\n",
              "      <td>6.0622</td>\n",
              "      <td>3</td>\n",
              "      <td>222</td>\n",
              "      <td>18.7</td>\n",
              "      <td>396.90</td>\n",
              "      <td>5.33</td>\n",
              "      <td>36.2</td>\n",
              "    </tr>\n",
              "  </tbody>\n",
              "</table>\n",
              "</div>\n",
              "      <button class=\"colab-df-convert\" onclick=\"convertToInteractive('df-b790944b-b385-48e4-96df-f2ecaac25d74')\"\n",
              "              title=\"Convert this dataframe to an interactive table.\"\n",
              "              style=\"display:none;\">\n",
              "        \n",
              "  <svg xmlns=\"http://www.w3.org/2000/svg\" height=\"24px\"viewBox=\"0 0 24 24\"\n",
              "       width=\"24px\">\n",
              "    <path d=\"M0 0h24v24H0V0z\" fill=\"none\"/>\n",
              "    <path d=\"M18.56 5.44l.94 2.06.94-2.06 2.06-.94-2.06-.94-.94-2.06-.94 2.06-2.06.94zm-11 1L8.5 8.5l.94-2.06 2.06-.94-2.06-.94L8.5 2.5l-.94 2.06-2.06.94zm10 10l.94 2.06.94-2.06 2.06-.94-2.06-.94-.94-2.06-.94 2.06-2.06.94z\"/><path d=\"M17.41 7.96l-1.37-1.37c-.4-.4-.92-.59-1.43-.59-.52 0-1.04.2-1.43.59L10.3 9.45l-7.72 7.72c-.78.78-.78 2.05 0 2.83L4 21.41c.39.39.9.59 1.41.59.51 0 1.02-.2 1.41-.59l7.78-7.78 2.81-2.81c.8-.78.8-2.07 0-2.86zM5.41 20L4 18.59l7.72-7.72 1.47 1.35L5.41 20z\"/>\n",
              "  </svg>\n",
              "      </button>\n",
              "      \n",
              "  <style>\n",
              "    .colab-df-container {\n",
              "      display:flex;\n",
              "      flex-wrap:wrap;\n",
              "      gap: 12px;\n",
              "    }\n",
              "\n",
              "    .colab-df-convert {\n",
              "      background-color: #E8F0FE;\n",
              "      border: none;\n",
              "      border-radius: 50%;\n",
              "      cursor: pointer;\n",
              "      display: none;\n",
              "      fill: #1967D2;\n",
              "      height: 32px;\n",
              "      padding: 0 0 0 0;\n",
              "      width: 32px;\n",
              "    }\n",
              "\n",
              "    .colab-df-convert:hover {\n",
              "      background-color: #E2EBFA;\n",
              "      box-shadow: 0px 1px 2px rgba(60, 64, 67, 0.3), 0px 1px 3px 1px rgba(60, 64, 67, 0.15);\n",
              "      fill: #174EA6;\n",
              "    }\n",
              "\n",
              "    [theme=dark] .colab-df-convert {\n",
              "      background-color: #3B4455;\n",
              "      fill: #D2E3FC;\n",
              "    }\n",
              "\n",
              "    [theme=dark] .colab-df-convert:hover {\n",
              "      background-color: #434B5C;\n",
              "      box-shadow: 0px 1px 3px 1px rgba(0, 0, 0, 0.15);\n",
              "      filter: drop-shadow(0px 1px 2px rgba(0, 0, 0, 0.3));\n",
              "      fill: #FFFFFF;\n",
              "    }\n",
              "  </style>\n",
              "\n",
              "      <script>\n",
              "        const buttonEl =\n",
              "          document.querySelector('#df-b790944b-b385-48e4-96df-f2ecaac25d74 button.colab-df-convert');\n",
              "        buttonEl.style.display =\n",
              "          google.colab.kernel.accessAllowed ? 'block' : 'none';\n",
              "\n",
              "        async function convertToInteractive(key) {\n",
              "          const element = document.querySelector('#df-b790944b-b385-48e4-96df-f2ecaac25d74');\n",
              "          const dataTable =\n",
              "            await google.colab.kernel.invokeFunction('convertToInteractive',\n",
              "                                                     [key], {});\n",
              "          if (!dataTable) return;\n",
              "\n",
              "          const docLinkHtml = 'Like what you see? Visit the ' +\n",
              "            '<a target=\"_blank\" href=https://colab.research.google.com/notebooks/data_table.ipynb>data table notebook</a>'\n",
              "            + ' to learn more about interactive tables.';\n",
              "          element.innerHTML = '';\n",
              "          dataTable['output_type'] = 'display_data';\n",
              "          await google.colab.output.renderOutput(dataTable, element);\n",
              "          const docLink = document.createElement('div');\n",
              "          docLink.innerHTML = docLinkHtml;\n",
              "          element.appendChild(docLink);\n",
              "        }\n",
              "      </script>\n",
              "    </div>\n",
              "  </div>\n",
              "  "
            ],
            "text/plain": [
              "      CRIM    ZN  INDUS  CHAS    NOX  ...  TAX  PTRATIO       B  LSTAT  MEDV\n",
              "0  0.00632  18.0   2.31     0  538.0  ...  296     15.3  396.90   4.98  24.0\n",
              "1  0.02731   0.0   7.07     0  469.0  ...  242     17.8  396.90   9.14  21.6\n",
              "2  0.02729   0.0   7.07     0  469.0  ...  242     17.8  392.83   4.03  34.7\n",
              "3  0.03237   0.0   2.18     0  458.0  ...  222     18.7  394.63   2.94  33.4\n",
              "4  0.06905   0.0   2.18     0  458.0  ...  222     18.7  396.90   5.33  36.2\n",
              "\n",
              "[5 rows x 14 columns]"
            ]
          },
          "metadata": {},
          "execution_count": 60
        }
      ]
    },
    {
      "cell_type": "markdown",
      "source": [
        "Agora vamos visualizar 10 linhas aleatórias dos nossos dados:"
      ],
      "metadata": {
        "id": "9LKEn-u1t1Uq"
      }
    },
    {
      "cell_type": "code",
      "source": [
        "print(boston_housing.shape)\n",
        "boston_housing.sample(n = 10)"
      ],
      "metadata": {
        "colab": {
          "base_uri": "https://localhost:8080/",
          "height": 380
        },
        "id": "wU781aZtuxWH",
        "outputId": "e8fc9479-241d-4da4-fdca-ab3474e859a6"
      },
      "execution_count": null,
      "outputs": [
        {
          "output_type": "stream",
          "name": "stdout",
          "text": [
            "(506, 14)\n"
          ]
        },
        {
          "output_type": "execute_result",
          "data": {
            "text/html": [
              "\n",
              "  <div id=\"df-1fb617bb-c124-42e5-b0d8-9bcd9e76a37d\">\n",
              "    <div class=\"colab-df-container\">\n",
              "      <div>\n",
              "<style scoped>\n",
              "    .dataframe tbody tr th:only-of-type {\n",
              "        vertical-align: middle;\n",
              "    }\n",
              "\n",
              "    .dataframe tbody tr th {\n",
              "        vertical-align: top;\n",
              "    }\n",
              "\n",
              "    .dataframe thead th {\n",
              "        text-align: right;\n",
              "    }\n",
              "</style>\n",
              "<table border=\"1\" class=\"dataframe\">\n",
              "  <thead>\n",
              "    <tr style=\"text-align: right;\">\n",
              "      <th></th>\n",
              "      <th>CRIM</th>\n",
              "      <th>ZN</th>\n",
              "      <th>INDUS</th>\n",
              "      <th>CHAS</th>\n",
              "      <th>NOX</th>\n",
              "      <th>RM</th>\n",
              "      <th>AGE</th>\n",
              "      <th>DIS</th>\n",
              "      <th>RAD</th>\n",
              "      <th>TAX</th>\n",
              "      <th>PTRATIO</th>\n",
              "      <th>B</th>\n",
              "      <th>LSTAT</th>\n",
              "      <th>MEDV</th>\n",
              "    </tr>\n",
              "  </thead>\n",
              "  <tbody>\n",
              "    <tr>\n",
              "      <th>463</th>\n",
              "      <td>5.82115</td>\n",
              "      <td>0.0</td>\n",
              "      <td>18.10</td>\n",
              "      <td>0</td>\n",
              "      <td>713.00</td>\n",
              "      <td>6513.00</td>\n",
              "      <td>89.9</td>\n",
              "      <td>2.8016</td>\n",
              "      <td>24</td>\n",
              "      <td>666</td>\n",
              "      <td>20.2</td>\n",
              "      <td>393.82</td>\n",
              "      <td>10.29</td>\n",
              "      <td>20.2</td>\n",
              "    </tr>\n",
              "    <tr>\n",
              "      <th>472</th>\n",
              "      <td>3.56868</td>\n",
              "      <td>0.0</td>\n",
              "      <td>18.10</td>\n",
              "      <td>0</td>\n",
              "      <td>0.58</td>\n",
              "      <td>6437.00</td>\n",
              "      <td>75.0</td>\n",
              "      <td>2.8965</td>\n",
              "      <td>24</td>\n",
              "      <td>666</td>\n",
              "      <td>20.2</td>\n",
              "      <td>393.37</td>\n",
              "      <td>14.36</td>\n",
              "      <td>23.2</td>\n",
              "    </tr>\n",
              "    <tr>\n",
              "      <th>162</th>\n",
              "      <td>1.83377</td>\n",
              "      <td>0.0</td>\n",
              "      <td>19.58</td>\n",
              "      <td>1</td>\n",
              "      <td>605.00</td>\n",
              "      <td>7802.00</td>\n",
              "      <td>98.2</td>\n",
              "      <td>2.0407</td>\n",
              "      <td>5</td>\n",
              "      <td>403</td>\n",
              "      <td>14.7</td>\n",
              "      <td>389.61</td>\n",
              "      <td>1.92</td>\n",
              "      <td>50.0</td>\n",
              "    </tr>\n",
              "    <tr>\n",
              "      <th>269</th>\n",
              "      <td>0.09065</td>\n",
              "      <td>20.0</td>\n",
              "      <td>6.96</td>\n",
              "      <td>1</td>\n",
              "      <td>464.00</td>\n",
              "      <td>5.92</td>\n",
              "      <td>61.5</td>\n",
              "      <td>3.9175</td>\n",
              "      <td>3</td>\n",
              "      <td>223</td>\n",
              "      <td>18.6</td>\n",
              "      <td>391.34</td>\n",
              "      <td>13.65</td>\n",
              "      <td>20.7</td>\n",
              "    </tr>\n",
              "    <tr>\n",
              "      <th>7</th>\n",
              "      <td>0.14455</td>\n",
              "      <td>12.5</td>\n",
              "      <td>7.87</td>\n",
              "      <td>0</td>\n",
              "      <td>524.00</td>\n",
              "      <td>6172.00</td>\n",
              "      <td>96.1</td>\n",
              "      <td>5.9505</td>\n",
              "      <td>5</td>\n",
              "      <td>311</td>\n",
              "      <td>15.2</td>\n",
              "      <td>396.90</td>\n",
              "      <td>19.15</td>\n",
              "      <td>27.1</td>\n",
              "    </tr>\n",
              "    <tr>\n",
              "      <th>95</th>\n",
              "      <td>0.12204</td>\n",
              "      <td>0.0</td>\n",
              "      <td>2.89</td>\n",
              "      <td>0</td>\n",
              "      <td>445.00</td>\n",
              "      <td>6625.00</td>\n",
              "      <td>57.8</td>\n",
              "      <td>3.4952</td>\n",
              "      <td>2</td>\n",
              "      <td>276</td>\n",
              "      <td>18.0</td>\n",
              "      <td>357.98</td>\n",
              "      <td>6.65</td>\n",
              "      <td>28.4</td>\n",
              "    </tr>\n",
              "    <tr>\n",
              "      <th>244</th>\n",
              "      <td>0.20608</td>\n",
              "      <td>22.0</td>\n",
              "      <td>5.86</td>\n",
              "      <td>0</td>\n",
              "      <td>431.00</td>\n",
              "      <td>5593.00</td>\n",
              "      <td>76.5</td>\n",
              "      <td>7.9549</td>\n",
              "      <td>7</td>\n",
              "      <td>330</td>\n",
              "      <td>19.1</td>\n",
              "      <td>372.49</td>\n",
              "      <td>12.50</td>\n",
              "      <td>17.6</td>\n",
              "    </tr>\n",
              "    <tr>\n",
              "      <th>381</th>\n",
              "      <td>15.87440</td>\n",
              "      <td>0.0</td>\n",
              "      <td>18.10</td>\n",
              "      <td>0</td>\n",
              "      <td>671.00</td>\n",
              "      <td>6545.00</td>\n",
              "      <td>99.1</td>\n",
              "      <td>1.5192</td>\n",
              "      <td>24</td>\n",
              "      <td>666</td>\n",
              "      <td>20.2</td>\n",
              "      <td>396.90</td>\n",
              "      <td>21.08</td>\n",
              "      <td>10.9</td>\n",
              "    </tr>\n",
              "    <tr>\n",
              "      <th>489</th>\n",
              "      <td>0.18337</td>\n",
              "      <td>0.0</td>\n",
              "      <td>27.74</td>\n",
              "      <td>0</td>\n",
              "      <td>609.00</td>\n",
              "      <td>5414.00</td>\n",
              "      <td>98.3</td>\n",
              "      <td>1.7554</td>\n",
              "      <td>4</td>\n",
              "      <td>711</td>\n",
              "      <td>20.1</td>\n",
              "      <td>344.05</td>\n",
              "      <td>23.97</td>\n",
              "      <td>7.0</td>\n",
              "    </tr>\n",
              "    <tr>\n",
              "      <th>138</th>\n",
              "      <td>0.24980</td>\n",
              "      <td>0.0</td>\n",
              "      <td>21.89</td>\n",
              "      <td>0</td>\n",
              "      <td>624.00</td>\n",
              "      <td>5857.00</td>\n",
              "      <td>98.2</td>\n",
              "      <td>1.6686</td>\n",
              "      <td>4</td>\n",
              "      <td>437</td>\n",
              "      <td>21.2</td>\n",
              "      <td>392.04</td>\n",
              "      <td>21.32</td>\n",
              "      <td>13.3</td>\n",
              "    </tr>\n",
              "  </tbody>\n",
              "</table>\n",
              "</div>\n",
              "      <button class=\"colab-df-convert\" onclick=\"convertToInteractive('df-1fb617bb-c124-42e5-b0d8-9bcd9e76a37d')\"\n",
              "              title=\"Convert this dataframe to an interactive table.\"\n",
              "              style=\"display:none;\">\n",
              "        \n",
              "  <svg xmlns=\"http://www.w3.org/2000/svg\" height=\"24px\"viewBox=\"0 0 24 24\"\n",
              "       width=\"24px\">\n",
              "    <path d=\"M0 0h24v24H0V0z\" fill=\"none\"/>\n",
              "    <path d=\"M18.56 5.44l.94 2.06.94-2.06 2.06-.94-2.06-.94-.94-2.06-.94 2.06-2.06.94zm-11 1L8.5 8.5l.94-2.06 2.06-.94-2.06-.94L8.5 2.5l-.94 2.06-2.06.94zm10 10l.94 2.06.94-2.06 2.06-.94-2.06-.94-.94-2.06-.94 2.06-2.06.94z\"/><path d=\"M17.41 7.96l-1.37-1.37c-.4-.4-.92-.59-1.43-.59-.52 0-1.04.2-1.43.59L10.3 9.45l-7.72 7.72c-.78.78-.78 2.05 0 2.83L4 21.41c.39.39.9.59 1.41.59.51 0 1.02-.2 1.41-.59l7.78-7.78 2.81-2.81c.8-.78.8-2.07 0-2.86zM5.41 20L4 18.59l7.72-7.72 1.47 1.35L5.41 20z\"/>\n",
              "  </svg>\n",
              "      </button>\n",
              "      \n",
              "  <style>\n",
              "    .colab-df-container {\n",
              "      display:flex;\n",
              "      flex-wrap:wrap;\n",
              "      gap: 12px;\n",
              "    }\n",
              "\n",
              "    .colab-df-convert {\n",
              "      background-color: #E8F0FE;\n",
              "      border: none;\n",
              "      border-radius: 50%;\n",
              "      cursor: pointer;\n",
              "      display: none;\n",
              "      fill: #1967D2;\n",
              "      height: 32px;\n",
              "      padding: 0 0 0 0;\n",
              "      width: 32px;\n",
              "    }\n",
              "\n",
              "    .colab-df-convert:hover {\n",
              "      background-color: #E2EBFA;\n",
              "      box-shadow: 0px 1px 2px rgba(60, 64, 67, 0.3), 0px 1px 3px 1px rgba(60, 64, 67, 0.15);\n",
              "      fill: #174EA6;\n",
              "    }\n",
              "\n",
              "    [theme=dark] .colab-df-convert {\n",
              "      background-color: #3B4455;\n",
              "      fill: #D2E3FC;\n",
              "    }\n",
              "\n",
              "    [theme=dark] .colab-df-convert:hover {\n",
              "      background-color: #434B5C;\n",
              "      box-shadow: 0px 1px 3px 1px rgba(0, 0, 0, 0.15);\n",
              "      filter: drop-shadow(0px 1px 2px rgba(0, 0, 0, 0.3));\n",
              "      fill: #FFFFFF;\n",
              "    }\n",
              "  </style>\n",
              "\n",
              "      <script>\n",
              "        const buttonEl =\n",
              "          document.querySelector('#df-1fb617bb-c124-42e5-b0d8-9bcd9e76a37d button.colab-df-convert');\n",
              "        buttonEl.style.display =\n",
              "          google.colab.kernel.accessAllowed ? 'block' : 'none';\n",
              "\n",
              "        async function convertToInteractive(key) {\n",
              "          const element = document.querySelector('#df-1fb617bb-c124-42e5-b0d8-9bcd9e76a37d');\n",
              "          const dataTable =\n",
              "            await google.colab.kernel.invokeFunction('convertToInteractive',\n",
              "                                                     [key], {});\n",
              "          if (!dataTable) return;\n",
              "\n",
              "          const docLinkHtml = 'Like what you see? Visit the ' +\n",
              "            '<a target=\"_blank\" href=https://colab.research.google.com/notebooks/data_table.ipynb>data table notebook</a>'\n",
              "            + ' to learn more about interactive tables.';\n",
              "          element.innerHTML = '';\n",
              "          dataTable['output_type'] = 'display_data';\n",
              "          await google.colab.output.renderOutput(dataTable, element);\n",
              "          const docLink = document.createElement('div');\n",
              "          docLink.innerHTML = docLinkHtml;\n",
              "          element.appendChild(docLink);\n",
              "        }\n",
              "      </script>\n",
              "    </div>\n",
              "  </div>\n",
              "  "
            ],
            "text/plain": [
              "         CRIM    ZN  INDUS  CHAS     NOX  ...  TAX  PTRATIO       B  LSTAT  MEDV\n",
              "463   5.82115   0.0  18.10     0  713.00  ...  666     20.2  393.82  10.29  20.2\n",
              "472   3.56868   0.0  18.10     0    0.58  ...  666     20.2  393.37  14.36  23.2\n",
              "162   1.83377   0.0  19.58     1  605.00  ...  403     14.7  389.61   1.92  50.0\n",
              "269   0.09065  20.0   6.96     1  464.00  ...  223     18.6  391.34  13.65  20.7\n",
              "7     0.14455  12.5   7.87     0  524.00  ...  311     15.2  396.90  19.15  27.1\n",
              "95    0.12204   0.0   2.89     0  445.00  ...  276     18.0  357.98   6.65  28.4\n",
              "244   0.20608  22.0   5.86     0  431.00  ...  330     19.1  372.49  12.50  17.6\n",
              "381  15.87440   0.0  18.10     0  671.00  ...  666     20.2  396.90  21.08  10.9\n",
              "489   0.18337   0.0  27.74     0  609.00  ...  711     20.1  344.05  23.97   7.0\n",
              "138   0.24980   0.0  21.89     0  624.00  ...  437     21.2  392.04  21.32  13.3\n",
              "\n",
              "[10 rows x 14 columns]"
            ]
          },
          "metadata": {},
          "execution_count": 61
        }
      ]
    },
    {
      "cell_type": "markdown",
      "source": [
        "Vamos observar algumas informações do dataframe:"
      ],
      "metadata": {
        "id": "eN5MFtt8rjoF"
      }
    },
    {
      "cell_type": "code",
      "source": [
        "boston_housing.info()\n"
      ],
      "metadata": {
        "colab": {
          "base_uri": "https://localhost:8080/"
        },
        "id": "k_Xobk6Ur-yc",
        "outputId": "f2275ee7-63d7-4cbf-9580-d85ac634926f"
      },
      "execution_count": null,
      "outputs": [
        {
          "output_type": "stream",
          "name": "stdout",
          "text": [
            "<class 'pandas.core.frame.DataFrame'>\n",
            "RangeIndex: 506 entries, 0 to 505\n",
            "Data columns (total 14 columns):\n",
            " #   Column   Non-Null Count  Dtype  \n",
            "---  ------   --------------  -----  \n",
            " 0   CRIM     506 non-null    float64\n",
            " 1   ZN       506 non-null    float64\n",
            " 2   INDUS    506 non-null    float64\n",
            " 3   CHAS     506 non-null    int64  \n",
            " 4   NOX      506 non-null    float64\n",
            " 5   RM       506 non-null    float64\n",
            " 6   AGE      506 non-null    float64\n",
            " 7   DIS      506 non-null    float64\n",
            " 8   RAD      506 non-null    int64  \n",
            " 9   TAX      506 non-null    int64  \n",
            " 10  PTRATIO  506 non-null    float64\n",
            " 11  B        506 non-null    float64\n",
            " 12  LSTAT    506 non-null    float64\n",
            " 13  MEDV     506 non-null    float64\n",
            "dtypes: float64(11), int64(3)\n",
            "memory usage: 55.5 KB\n"
          ]
        }
      ]
    },
    {
      "cell_type": "markdown",
      "source": [
        "O site http://www.cs.toronto.edu/~delve/data/boston/bostonDetail.html da uma descrição do que cada sigla significa:\n",
        "\n",
        "\n",
        "There are 14 attributes in each case of the dataset. They are:\n",
        "\n",
        "**CRIM **- per capita crime rate by town\n",
        "\n",
        "**ZN** - proportion of residential land zoned for lots over 25,000 sq.ft.\n",
        "\n",
        "**INDUS** - proportion of non-retail business acres per town.\n",
        "\n",
        "**CHAS** - Charles River dummy variable (1 if tract bounds river; 0 otherwise)\n",
        "\n",
        "**NOX** - nitric oxides concentration (parts per 10 million)\n",
        "\n",
        "**RM** - average number of rooms per dwelling\n",
        "\n",
        "**AGE** - proportion of owner-occupied units built prior to 1940\n",
        "\n",
        "**DIS** - weighted distances to five Boston employment centres\n",
        "\n",
        "**RAD** - index of accessibility to radial highways\n",
        "\n",
        "**TAX** - full-value property-tax rate per $10,000\n",
        "\n",
        "**PTRATIO** - pupil-teacher ratio by town\n",
        "\n",
        "**B** - 1000(Bk - 0.63)^2 where Bk is the proportion of blacks by town\n",
        "\n",
        "**LSTAT** - % lower status of the population\n",
        "\n",
        "**MEDV** - Median value of owner-occupied homes in $1000's\n",
        "\n",
        "\n",
        "\n",
        "Como todas as características são numéricas, não precisamos fazer uma conversão de dados qualitativos em quantitativos.\n",
        "\n"
      ],
      "metadata": {
        "id": "MF1couUHtBgQ"
      }
    },
    {
      "cell_type": "markdown",
      "source": [
        "#Análise exploratória\n",
        "\n",
        "Vamos obter alguns dados estatísticos a cerca dos dados que serão tratados:"
      ],
      "metadata": {
        "id": "pbmjvdyRv7Td"
      }
    },
    {
      "cell_type": "code",
      "source": [
        "boston_housing.describe()"
      ],
      "metadata": {
        "colab": {
          "base_uri": "https://localhost:8080/",
          "height": 364
        },
        "id": "-64HCi9-wCEt",
        "outputId": "f09b5c4e-e6cd-462d-f064-e62e606e6d70"
      },
      "execution_count": null,
      "outputs": [
        {
          "output_type": "execute_result",
          "data": {
            "text/html": [
              "\n",
              "  <div id=\"df-e74d8eaf-e2ee-4dc1-b177-45ad282ddb37\">\n",
              "    <div class=\"colab-df-container\">\n",
              "      <div>\n",
              "<style scoped>\n",
              "    .dataframe tbody tr th:only-of-type {\n",
              "        vertical-align: middle;\n",
              "    }\n",
              "\n",
              "    .dataframe tbody tr th {\n",
              "        vertical-align: top;\n",
              "    }\n",
              "\n",
              "    .dataframe thead th {\n",
              "        text-align: right;\n",
              "    }\n",
              "</style>\n",
              "<table border=\"1\" class=\"dataframe\">\n",
              "  <thead>\n",
              "    <tr style=\"text-align: right;\">\n",
              "      <th></th>\n",
              "      <th>CRIM</th>\n",
              "      <th>ZN</th>\n",
              "      <th>INDUS</th>\n",
              "      <th>CHAS</th>\n",
              "      <th>NOX</th>\n",
              "      <th>RM</th>\n",
              "      <th>AGE</th>\n",
              "      <th>DIS</th>\n",
              "      <th>RAD</th>\n",
              "      <th>TAX</th>\n",
              "      <th>PTRATIO</th>\n",
              "      <th>B</th>\n",
              "      <th>LSTAT</th>\n",
              "      <th>MEDV</th>\n",
              "    </tr>\n",
              "  </thead>\n",
              "  <tbody>\n",
              "    <tr>\n",
              "      <th>count</th>\n",
              "      <td>506.000000</td>\n",
              "      <td>506.000000</td>\n",
              "      <td>506.000000</td>\n",
              "      <td>506.000000</td>\n",
              "      <td>506.000000</td>\n",
              "      <td>506.000000</td>\n",
              "      <td>506.000000</td>\n",
              "      <td>506.000000</td>\n",
              "      <td>506.000000</td>\n",
              "      <td>506.000000</td>\n",
              "      <td>506.000000</td>\n",
              "      <td>506.000000</td>\n",
              "      <td>506.000000</td>\n",
              "      <td>506.000000</td>\n",
              "    </tr>\n",
              "    <tr>\n",
              "      <th>mean</th>\n",
              "      <td>97.971640</td>\n",
              "      <td>11.363636</td>\n",
              "      <td>11.136779</td>\n",
              "      <td>0.069170</td>\n",
              "      <td>465.069952</td>\n",
              "      <td>5642.688043</td>\n",
              "      <td>68.574901</td>\n",
              "      <td>381.361762</td>\n",
              "      <td>9.549407</td>\n",
              "      <td>408.237154</td>\n",
              "      <td>18.455534</td>\n",
              "      <td>356.674032</td>\n",
              "      <td>12.653063</td>\n",
              "      <td>22.532806</td>\n",
              "    </tr>\n",
              "    <tr>\n",
              "      <th>std</th>\n",
              "      <td>1174.241324</td>\n",
              "      <td>23.322453</td>\n",
              "      <td>6.860353</td>\n",
              "      <td>0.253994</td>\n",
              "      <td>222.311286</td>\n",
              "      <td>1999.032788</td>\n",
              "      <td>28.148861</td>\n",
              "      <td>1270.503546</td>\n",
              "      <td>8.707259</td>\n",
              "      <td>168.537116</td>\n",
              "      <td>2.164946</td>\n",
              "      <td>91.294864</td>\n",
              "      <td>7.141062</td>\n",
              "      <td>9.197104</td>\n",
              "    </tr>\n",
              "    <tr>\n",
              "      <th>min</th>\n",
              "      <td>0.006320</td>\n",
              "      <td>0.000000</td>\n",
              "      <td>0.460000</td>\n",
              "      <td>0.000000</td>\n",
              "      <td>0.400000</td>\n",
              "      <td>4.880000</td>\n",
              "      <td>2.900000</td>\n",
              "      <td>1.129600</td>\n",
              "      <td>1.000000</td>\n",
              "      <td>187.000000</td>\n",
              "      <td>12.600000</td>\n",
              "      <td>0.320000</td>\n",
              "      <td>1.730000</td>\n",
              "      <td>5.000000</td>\n",
              "    </tr>\n",
              "    <tr>\n",
              "      <th>25%</th>\n",
              "      <td>0.082045</td>\n",
              "      <td>0.000000</td>\n",
              "      <td>5.190000</td>\n",
              "      <td>0.000000</td>\n",
              "      <td>429.000000</td>\n",
              "      <td>5757.500000</td>\n",
              "      <td>45.025000</td>\n",
              "      <td>2.122250</td>\n",
              "      <td>4.000000</td>\n",
              "      <td>279.000000</td>\n",
              "      <td>17.400000</td>\n",
              "      <td>375.377500</td>\n",
              "      <td>6.950000</td>\n",
              "      <td>17.025000</td>\n",
              "    </tr>\n",
              "    <tr>\n",
              "      <th>50%</th>\n",
              "      <td>0.256510</td>\n",
              "      <td>0.000000</td>\n",
              "      <td>9.690000</td>\n",
              "      <td>0.000000</td>\n",
              "      <td>504.000000</td>\n",
              "      <td>6133.000000</td>\n",
              "      <td>77.500000</td>\n",
              "      <td>3.513850</td>\n",
              "      <td>5.000000</td>\n",
              "      <td>330.000000</td>\n",
              "      <td>19.050000</td>\n",
              "      <td>391.440000</td>\n",
              "      <td>11.360000</td>\n",
              "      <td>21.200000</td>\n",
              "    </tr>\n",
              "    <tr>\n",
              "      <th>75%</th>\n",
              "      <td>3.695990</td>\n",
              "      <td>12.500000</td>\n",
              "      <td>18.100000</td>\n",
              "      <td>0.000000</td>\n",
              "      <td>605.000000</td>\n",
              "      <td>6545.750000</td>\n",
              "      <td>94.075000</td>\n",
              "      <td>6.077125</td>\n",
              "      <td>24.000000</td>\n",
              "      <td>666.000000</td>\n",
              "      <td>20.200000</td>\n",
              "      <td>396.225000</td>\n",
              "      <td>16.955000</td>\n",
              "      <td>25.000000</td>\n",
              "    </tr>\n",
              "    <tr>\n",
              "      <th>max</th>\n",
              "      <td>18811.000000</td>\n",
              "      <td>100.000000</td>\n",
              "      <td>27.740000</td>\n",
              "      <td>1.000000</td>\n",
              "      <td>871.000000</td>\n",
              "      <td>8725.000000</td>\n",
              "      <td>100.000000</td>\n",
              "      <td>8344.000000</td>\n",
              "      <td>24.000000</td>\n",
              "      <td>711.000000</td>\n",
              "      <td>22.000000</td>\n",
              "      <td>396.900000</td>\n",
              "      <td>37.970000</td>\n",
              "      <td>50.000000</td>\n",
              "    </tr>\n",
              "  </tbody>\n",
              "</table>\n",
              "</div>\n",
              "      <button class=\"colab-df-convert\" onclick=\"convertToInteractive('df-e74d8eaf-e2ee-4dc1-b177-45ad282ddb37')\"\n",
              "              title=\"Convert this dataframe to an interactive table.\"\n",
              "              style=\"display:none;\">\n",
              "        \n",
              "  <svg xmlns=\"http://www.w3.org/2000/svg\" height=\"24px\"viewBox=\"0 0 24 24\"\n",
              "       width=\"24px\">\n",
              "    <path d=\"M0 0h24v24H0V0z\" fill=\"none\"/>\n",
              "    <path d=\"M18.56 5.44l.94 2.06.94-2.06 2.06-.94-2.06-.94-.94-2.06-.94 2.06-2.06.94zm-11 1L8.5 8.5l.94-2.06 2.06-.94-2.06-.94L8.5 2.5l-.94 2.06-2.06.94zm10 10l.94 2.06.94-2.06 2.06-.94-2.06-.94-.94-2.06-.94 2.06-2.06.94z\"/><path d=\"M17.41 7.96l-1.37-1.37c-.4-.4-.92-.59-1.43-.59-.52 0-1.04.2-1.43.59L10.3 9.45l-7.72 7.72c-.78.78-.78 2.05 0 2.83L4 21.41c.39.39.9.59 1.41.59.51 0 1.02-.2 1.41-.59l7.78-7.78 2.81-2.81c.8-.78.8-2.07 0-2.86zM5.41 20L4 18.59l7.72-7.72 1.47 1.35L5.41 20z\"/>\n",
              "  </svg>\n",
              "      </button>\n",
              "      \n",
              "  <style>\n",
              "    .colab-df-container {\n",
              "      display:flex;\n",
              "      flex-wrap:wrap;\n",
              "      gap: 12px;\n",
              "    }\n",
              "\n",
              "    .colab-df-convert {\n",
              "      background-color: #E8F0FE;\n",
              "      border: none;\n",
              "      border-radius: 50%;\n",
              "      cursor: pointer;\n",
              "      display: none;\n",
              "      fill: #1967D2;\n",
              "      height: 32px;\n",
              "      padding: 0 0 0 0;\n",
              "      width: 32px;\n",
              "    }\n",
              "\n",
              "    .colab-df-convert:hover {\n",
              "      background-color: #E2EBFA;\n",
              "      box-shadow: 0px 1px 2px rgba(60, 64, 67, 0.3), 0px 1px 3px 1px rgba(60, 64, 67, 0.15);\n",
              "      fill: #174EA6;\n",
              "    }\n",
              "\n",
              "    [theme=dark] .colab-df-convert {\n",
              "      background-color: #3B4455;\n",
              "      fill: #D2E3FC;\n",
              "    }\n",
              "\n",
              "    [theme=dark] .colab-df-convert:hover {\n",
              "      background-color: #434B5C;\n",
              "      box-shadow: 0px 1px 3px 1px rgba(0, 0, 0, 0.15);\n",
              "      filter: drop-shadow(0px 1px 2px rgba(0, 0, 0, 0.3));\n",
              "      fill: #FFFFFF;\n",
              "    }\n",
              "  </style>\n",
              "\n",
              "      <script>\n",
              "        const buttonEl =\n",
              "          document.querySelector('#df-e74d8eaf-e2ee-4dc1-b177-45ad282ddb37 button.colab-df-convert');\n",
              "        buttonEl.style.display =\n",
              "          google.colab.kernel.accessAllowed ? 'block' : 'none';\n",
              "\n",
              "        async function convertToInteractive(key) {\n",
              "          const element = document.querySelector('#df-e74d8eaf-e2ee-4dc1-b177-45ad282ddb37');\n",
              "          const dataTable =\n",
              "            await google.colab.kernel.invokeFunction('convertToInteractive',\n",
              "                                                     [key], {});\n",
              "          if (!dataTable) return;\n",
              "\n",
              "          const docLinkHtml = 'Like what you see? Visit the ' +\n",
              "            '<a target=\"_blank\" href=https://colab.research.google.com/notebooks/data_table.ipynb>data table notebook</a>'\n",
              "            + ' to learn more about interactive tables.';\n",
              "          element.innerHTML = '';\n",
              "          dataTable['output_type'] = 'display_data';\n",
              "          await google.colab.output.renderOutput(dataTable, element);\n",
              "          const docLink = document.createElement('div');\n",
              "          docLink.innerHTML = docLinkHtml;\n",
              "          element.appendChild(docLink);\n",
              "        }\n",
              "      </script>\n",
              "    </div>\n",
              "  </div>\n",
              "  "
            ],
            "text/plain": [
              "               CRIM          ZN       INDUS  ...           B       LSTAT        MEDV\n",
              "count    506.000000  506.000000  506.000000  ...  506.000000  506.000000  506.000000\n",
              "mean      97.971640   11.363636   11.136779  ...  356.674032   12.653063   22.532806\n",
              "std     1174.241324   23.322453    6.860353  ...   91.294864    7.141062    9.197104\n",
              "min        0.006320    0.000000    0.460000  ...    0.320000    1.730000    5.000000\n",
              "25%        0.082045    0.000000    5.190000  ...  375.377500    6.950000   17.025000\n",
              "50%        0.256510    0.000000    9.690000  ...  391.440000   11.360000   21.200000\n",
              "75%        3.695990   12.500000   18.100000  ...  396.225000   16.955000   25.000000\n",
              "max    18811.000000  100.000000   27.740000  ...  396.900000   37.970000   50.000000\n",
              "\n",
              "[8 rows x 14 columns]"
            ]
          },
          "metadata": {},
          "execution_count": 63
        }
      ]
    },
    {
      "cell_type": "markdown",
      "source": [
        "Também podemos visualizar os dados através de histogramas:"
      ],
      "metadata": {
        "id": "Y0E81wrFwbEu"
      }
    },
    {
      "cell_type": "code",
      "source": [
        "import matplotlib.pyplot as plt\n",
        "boston_housing.hist(bins=50, figsize=(20,15))\n",
        "plt.show()"
      ],
      "metadata": {
        "colab": {
          "base_uri": "https://localhost:8080/",
          "height": 899
        },
        "id": "zpSCRKIqwdlV",
        "outputId": "e2f6f21d-3621-4354-e5f1-f0f8da8c6a53"
      },
      "execution_count": null,
      "outputs": [
        {
          "output_type": "display_data",
          "data": {
            "image/png": "[encoded data removed]",
            "text/plain": [
              "<Figure size 1440x1080 with 16 Axes>"
            ]
          },
          "metadata": {
            "needs_background": "light"
          }
        }
      ]
    },
    {
      "cell_type": "markdown",
      "source": [
        "#Separação dos dados em conjunto de treino e teste\n",
        "\n",
        "Vamos estratificar os dados a partir da característica MEDV. Essa abordagem diminui o risco de que o conjunto de treino saía enviesado em comparação com a abordagem da simples separação aleatória. Resolvi, de maneira um tanto arbitrária, escolher 5 categorias. Um estudo mais aprofundado da natureza do problema junto com uma análise estatística nos daria o número adequado de categorias\n"
      ],
      "metadata": {
        "id": "rzELDrTJxhQc"
      }
    },
    {
      "cell_type": "code",
      "source": [
        "boston_housing[\"MEDV_CATEGORY\"] = pd.cut(boston_housing[\"MEDV\"], \n",
        "                                         bins=[4.99, 14, 23, 32, 41, np.inf],\n",
        "                                         labels=[1, 2, 3, 4, 5])\n",
        "boston_housing[\"MEDV_CATEGORY\"].value_counts()\n",
        "boston_housing[\"MEDV_CATEGORY\"].hist()"
      ],
      "metadata": {
        "colab": {
          "base_uri": "https://localhost:8080/",
          "height": 286
        },
        "id": "sWmZqw_F0fg3",
        "outputId": "35ae5dfb-9a6c-4db1-ffb3-124e478e487c"
      },
      "execution_count": null,
      "outputs": [
        {
          "output_type": "execute_result",
          "data": {
            "text/plain": [
              "<matplotlib.axes._subplots.AxesSubplot at 0x7f131015a1d0>"
            ]
          },
          "metadata": {},
          "execution_count": 65
        },
        {
          "output_type": "display_data",
          "data": {
            "image/png": "[encoded data removed]",
            "text/plain": [
              "<Figure size 432x288 with 1 Axes>"
            ]
          },
          "metadata": {
            "needs_background": "light"
          }
        }
      ]
    },
    {
      "cell_type": "markdown",
      "source": [
        "Agora vamos separar os nossos dados em teste/treino utilizando as categorias:\n"
      ],
      "metadata": {
        "id": "5zqk1TaB1YX5"
      }
    },
    {
      "cell_type": "code",
      "source": [
        "from sklearn.model_selection import StratifiedShuffleSplit\n",
        "\n",
        "split = StratifiedShuffleSplit(n_splits=1, test_size=0.2, random_state=seed)\n",
        "\n",
        "for train_i, test_i in split.split(boston_housing, boston_housing[\"MEDV_CATEGORY\"]):\n",
        "    strat_train_set = boston_housing.loc[train_i]\n",
        "    strat_test_set = boston_housing.loc[test_i]"
      ],
      "metadata": {
        "id": "XWB_l9bj1bJL"
      },
      "execution_count": null,
      "outputs": []
    },
    {
      "cell_type": "markdown",
      "source": [
        "Vamos ver se as proporções foram mentidas na estratificação de teste:"
      ],
      "metadata": {
        "id": "Ae4isd4q373T"
      }
    },
    {
      "cell_type": "code",
      "source": [
        "strat_test_set[\"MEDV_CATEGORY\"].value_counts() / len(strat_test_set)"
      ],
      "metadata": {
        "colab": {
          "base_uri": "https://localhost:8080/"
        },
        "id": "7UKL9rb_37Zl",
        "outputId": "aa20477c-700d-41ca-e98e-99c6ee0c3509"
      },
      "execution_count": null,
      "outputs": [
        {
          "output_type": "execute_result",
          "data": {
            "text/plain": [
              "2    0.470588\n",
              "3    0.245098\n",
              "1    0.156863\n",
              "4    0.068627\n",
              "5    0.058824\n",
              "Name: MEDV_CATEGORY, dtype: float64"
            ]
          },
          "metadata": {},
          "execution_count": 67
        }
      ]
    },
    {
      "cell_type": "code",
      "source": [
        "\n",
        "boston_housing[\"MEDV_CATEGORY\"].value_counts() / len(boston_housing)"
      ],
      "metadata": {
        "colab": {
          "base_uri": "https://localhost:8080/"
        },
        "id": "HqGHlIda4JxN",
        "outputId": "da70e917-a798-4d79-ab14-632b746f8df1"
      },
      "execution_count": null,
      "outputs": [
        {
          "output_type": "execute_result",
          "data": {
            "text/plain": [
              "2    0.472332\n",
              "3    0.243083\n",
              "1    0.152174\n",
              "4    0.071146\n",
              "5    0.061265\n",
              "Name: MEDV_CATEGORY, dtype: float64"
            ]
          },
          "metadata": {},
          "execution_count": 68
        }
      ]
    },
    {
      "cell_type": "markdown",
      "source": [
        "Foram mantidas. Vamos remover a coluna \"MEDV_CATEGORY\" dos conjuntos testes/treino estratificados:"
      ],
      "metadata": {
        "id": "YHy7H0-n4UCP"
      }
    },
    {
      "cell_type": "code",
      "source": [
        "for set_ in (strat_train_set, strat_test_set):\n",
        "    set_.drop(\"MEDV_CATEGORY\", axis=1, inplace=True)"
      ],
      "metadata": {
        "id": "I000AZOu4n4d"
      },
      "execution_count": null,
      "outputs": []
    },
    {
      "cell_type": "markdown",
      "source": [
        " Para evitar um problema de Snooping Bias, trabalharemos sem os dados de teste. Deste modo, não estaremos enviesando nosso modelo com dados fora do grupo de treino."
      ],
      "metadata": {
        "id": "HNeBvi-D7yp8"
      }
    },
    {
      "cell_type": "code",
      "source": [
        "boston_housing = strat_train_set.copy()"
      ],
      "metadata": {
        "id": "db03KXdC7yJ-"
      },
      "execution_count": null,
      "outputs": []
    },
    {
      "cell_type": "markdown",
      "source": [
        "#Correlações\n",
        "\n",
        "Vamos visualizar melhor as correlações presentes nos nossos dados. Vamos obter a matriz de correlações:"
      ],
      "metadata": {
        "id": "OnoHB2Ja8R1u"
      }
    },
    {
      "cell_type": "code",
      "source": [
        "corr_matrix = boston_housing.corr()\n",
        "corr_matrix"
      ],
      "metadata": {
        "colab": {
          "base_uri": "https://localhost:8080/",
          "height": 552
        },
        "id": "7C1I369v8Wjw",
        "outputId": "8148e732-5f46-415c-8967-4611d0233989"
      },
      "execution_count": null,
      "outputs": [
        {
          "output_type": "execute_result",
          "data": {
            "text/html": [
              "\n",
              "  <div id=\"df-41e4f010-79fc-4b5a-a17f-dc0ee88a9718\">\n",
              "    <div class=\"colab-df-container\">\n",
              "      <div>\n",
              "<style scoped>\n",
              "    .dataframe tbody tr th:only-of-type {\n",
              "        vertical-align: middle;\n",
              "    }\n",
              "\n",
              "    .dataframe tbody tr th {\n",
              "        vertical-align: top;\n",
              "    }\n",
              "\n",
              "    .dataframe thead th {\n",
              "        text-align: right;\n",
              "    }\n",
              "</style>\n",
              "<table border=\"1\" class=\"dataframe\">\n",
              "  <thead>\n",
              "    <tr style=\"text-align: right;\">\n",
              "      <th></th>\n",
              "      <th>CRIM</th>\n",
              "      <th>ZN</th>\n",
              "      <th>INDUS</th>\n",
              "      <th>CHAS</th>\n",
              "      <th>NOX</th>\n",
              "      <th>RM</th>\n",
              "      <th>AGE</th>\n",
              "      <th>DIS</th>\n",
              "      <th>RAD</th>\n",
              "      <th>TAX</th>\n",
              "      <th>PTRATIO</th>\n",
              "      <th>B</th>\n",
              "      <th>LSTAT</th>\n",
              "      <th>MEDV</th>\n",
              "    </tr>\n",
              "  </thead>\n",
              "  <tbody>\n",
              "    <tr>\n",
              "      <th>CRIM</th>\n",
              "      <td>1.000000</td>\n",
              "      <td>-0.043973</td>\n",
              "      <td>0.091565</td>\n",
              "      <td>-0.025526</td>\n",
              "      <td>0.064677</td>\n",
              "      <td>0.001549</td>\n",
              "      <td>0.087602</td>\n",
              "      <td>-0.029068</td>\n",
              "      <td>0.138293</td>\n",
              "      <td>0.130049</td>\n",
              "      <td>0.056815</td>\n",
              "      <td>-0.130261</td>\n",
              "      <td>0.164769</td>\n",
              "      <td>-0.062377</td>\n",
              "    </tr>\n",
              "    <tr>\n",
              "      <th>ZN</th>\n",
              "      <td>-0.043973</td>\n",
              "      <td>1.000000</td>\n",
              "      <td>-0.535204</td>\n",
              "      <td>-0.056145</td>\n",
              "      <td>-0.199227</td>\n",
              "      <td>0.049612</td>\n",
              "      <td>-0.591852</td>\n",
              "      <td>0.070443</td>\n",
              "      <td>-0.308803</td>\n",
              "      <td>-0.297583</td>\n",
              "      <td>-0.359189</td>\n",
              "      <td>0.169627</td>\n",
              "      <td>-0.416428</td>\n",
              "      <td>0.329617</td>\n",
              "    </tr>\n",
              "    <tr>\n",
              "      <th>INDUS</th>\n",
              "      <td>0.091565</td>\n",
              "      <td>-0.535204</td>\n",
              "      <td>1.000000</td>\n",
              "      <td>0.051176</td>\n",
              "      <td>0.285574</td>\n",
              "      <td>-0.050867</td>\n",
              "      <td>0.638676</td>\n",
              "      <td>-0.113686</td>\n",
              "      <td>0.587486</td>\n",
              "      <td>0.702531</td>\n",
              "      <td>0.366717</td>\n",
              "      <td>-0.348580</td>\n",
              "      <td>0.574521</td>\n",
              "      <td>-0.466824</td>\n",
              "    </tr>\n",
              "    <tr>\n",
              "      <th>CHAS</th>\n",
              "      <td>-0.025526</td>\n",
              "      <td>-0.056145</td>\n",
              "      <td>0.051176</td>\n",
              "      <td>1.000000</td>\n",
              "      <td>-0.040046</td>\n",
              "      <td>-0.016508</td>\n",
              "      <td>0.068096</td>\n",
              "      <td>0.047941</td>\n",
              "      <td>-0.044099</td>\n",
              "      <td>-0.076373</td>\n",
              "      <td>-0.139773</td>\n",
              "      <td>0.051172</td>\n",
              "      <td>-0.045242</td>\n",
              "      <td>0.136133</td>\n",
              "    </tr>\n",
              "    <tr>\n",
              "      <th>NOX</th>\n",
              "      <td>0.064677</td>\n",
              "      <td>-0.199227</td>\n",
              "      <td>0.285574</td>\n",
              "      <td>-0.040046</td>\n",
              "      <td>1.000000</td>\n",
              "      <td>-0.018737</td>\n",
              "      <td>0.245470</td>\n",
              "      <td>0.009285</td>\n",
              "      <td>0.038352</td>\n",
              "      <td>0.074648</td>\n",
              "      <td>-0.014227</td>\n",
              "      <td>-0.191198</td>\n",
              "      <td>0.139616</td>\n",
              "      <td>-0.096679</td>\n",
              "    </tr>\n",
              "    <tr>\n",
              "      <th>RM</th>\n",
              "      <td>0.001549</td>\n",
              "      <td>0.049612</td>\n",
              "      <td>-0.050867</td>\n",
              "      <td>-0.016508</td>\n",
              "      <td>-0.018737</td>\n",
              "      <td>1.000000</td>\n",
              "      <td>-0.017177</td>\n",
              "      <td>0.024545</td>\n",
              "      <td>0.010637</td>\n",
              "      <td>-0.010996</td>\n",
              "      <td>-0.086394</td>\n",
              "      <td>-0.013818</td>\n",
              "      <td>-0.138456</td>\n",
              "      <td>0.177695</td>\n",
              "    </tr>\n",
              "    <tr>\n",
              "      <th>AGE</th>\n",
              "      <td>0.087602</td>\n",
              "      <td>-0.591852</td>\n",
              "      <td>0.638676</td>\n",
              "      <td>0.068096</td>\n",
              "      <td>0.245470</td>\n",
              "      <td>-0.017177</td>\n",
              "      <td>1.000000</td>\n",
              "      <td>-0.014517</td>\n",
              "      <td>0.438439</td>\n",
              "      <td>0.474639</td>\n",
              "      <td>0.256657</td>\n",
              "      <td>-0.246945</td>\n",
              "      <td>0.588293</td>\n",
              "      <td>-0.370277</td>\n",
              "    </tr>\n",
              "    <tr>\n",
              "      <th>DIS</th>\n",
              "      <td>-0.029068</td>\n",
              "      <td>0.070443</td>\n",
              "      <td>-0.113686</td>\n",
              "      <td>0.047941</td>\n",
              "      <td>0.009285</td>\n",
              "      <td>0.024545</td>\n",
              "      <td>-0.014517</td>\n",
              "      <td>1.000000</td>\n",
              "      <td>-0.101474</td>\n",
              "      <td>-0.127465</td>\n",
              "      <td>-0.026515</td>\n",
              "      <td>0.072580</td>\n",
              "      <td>-0.038791</td>\n",
              "      <td>0.035922</td>\n",
              "    </tr>\n",
              "    <tr>\n",
              "      <th>RAD</th>\n",
              "      <td>0.138293</td>\n",
              "      <td>-0.308803</td>\n",
              "      <td>0.587486</td>\n",
              "      <td>-0.044099</td>\n",
              "      <td>0.038352</td>\n",
              "      <td>0.010637</td>\n",
              "      <td>0.438439</td>\n",
              "      <td>-0.101474</td>\n",
              "      <td>1.000000</td>\n",
              "      <td>0.914844</td>\n",
              "      <td>0.450710</td>\n",
              "      <td>-0.454903</td>\n",
              "      <td>0.481177</td>\n",
              "      <td>-0.391831</td>\n",
              "    </tr>\n",
              "    <tr>\n",
              "      <th>TAX</th>\n",
              "      <td>0.130049</td>\n",
              "      <td>-0.297583</td>\n",
              "      <td>0.702531</td>\n",
              "      <td>-0.076373</td>\n",
              "      <td>0.074648</td>\n",
              "      <td>-0.010996</td>\n",
              "      <td>0.474639</td>\n",
              "      <td>-0.127465</td>\n",
              "      <td>0.914844</td>\n",
              "      <td>1.000000</td>\n",
              "      <td>0.449157</td>\n",
              "      <td>-0.445981</td>\n",
              "      <td>0.522296</td>\n",
              "      <td>-0.466507</td>\n",
              "    </tr>\n",
              "    <tr>\n",
              "      <th>PTRATIO</th>\n",
              "      <td>0.056815</td>\n",
              "      <td>-0.359189</td>\n",
              "      <td>0.366717</td>\n",
              "      <td>-0.139773</td>\n",
              "      <td>-0.014227</td>\n",
              "      <td>-0.086394</td>\n",
              "      <td>0.256657</td>\n",
              "      <td>-0.026515</td>\n",
              "      <td>0.450710</td>\n",
              "      <td>0.449157</td>\n",
              "      <td>1.000000</td>\n",
              "      <td>-0.181491</td>\n",
              "      <td>0.404244</td>\n",
              "      <td>-0.539146</td>\n",
              "    </tr>\n",
              "    <tr>\n",
              "      <th>B</th>\n",
              "      <td>-0.130261</td>\n",
              "      <td>0.169627</td>\n",
              "      <td>-0.348580</td>\n",
              "      <td>0.051172</td>\n",
              "      <td>-0.191198</td>\n",
              "      <td>-0.013818</td>\n",
              "      <td>-0.246945</td>\n",
              "      <td>0.072580</td>\n",
              "      <td>-0.454903</td>\n",
              "      <td>-0.445981</td>\n",
              "      <td>-0.181491</td>\n",
              "      <td>1.000000</td>\n",
              "      <td>-0.354363</td>\n",
              "      <td>0.327350</td>\n",
              "    </tr>\n",
              "    <tr>\n",
              "      <th>LSTAT</th>\n",
              "      <td>0.164769</td>\n",
              "      <td>-0.416428</td>\n",
              "      <td>0.574521</td>\n",
              "      <td>-0.045242</td>\n",
              "      <td>0.139616</td>\n",
              "      <td>-0.138456</td>\n",
              "      <td>0.588293</td>\n",
              "      <td>-0.038791</td>\n",
              "      <td>0.481177</td>\n",
              "      <td>0.522296</td>\n",
              "      <td>0.404244</td>\n",
              "      <td>-0.354363</td>\n",
              "      <td>1.000000</td>\n",
              "      <td>-0.730608</td>\n",
              "    </tr>\n",
              "    <tr>\n",
              "      <th>MEDV</th>\n",
              "      <td>-0.062377</td>\n",
              "      <td>0.329617</td>\n",
              "      <td>-0.466824</td>\n",
              "      <td>0.136133</td>\n",
              "      <td>-0.096679</td>\n",
              "      <td>0.177695</td>\n",
              "      <td>-0.370277</td>\n",
              "      <td>0.035922</td>\n",
              "      <td>-0.391831</td>\n",
              "      <td>-0.466507</td>\n",
              "      <td>-0.539146</td>\n",
              "      <td>0.327350</td>\n",
              "      <td>-0.730608</td>\n",
              "      <td>1.000000</td>\n",
              "    </tr>\n",
              "  </tbody>\n",
              "</table>\n",
              "</div>\n",
              "      <button class=\"colab-df-convert\" onclick=\"convertToInteractive('df-41e4f010-79fc-4b5a-a17f-dc0ee88a9718')\"\n",
              "              title=\"Convert this dataframe to an interactive table.\"\n",
              "              style=\"display:none;\">\n",
              "        \n",
              "  <svg xmlns=\"http://www.w3.org/2000/svg\" height=\"24px\"viewBox=\"0 0 24 24\"\n",
              "       width=\"24px\">\n",
              "    <path d=\"M0 0h24v24H0V0z\" fill=\"none\"/>\n",
              "    <path d=\"M18.56 5.44l.94 2.06.94-2.06 2.06-.94-2.06-.94-.94-2.06-.94 2.06-2.06.94zm-11 1L8.5 8.5l.94-2.06 2.06-.94-2.06-.94L8.5 2.5l-.94 2.06-2.06.94zm10 10l.94 2.06.94-2.06 2.06-.94-2.06-.94-.94-2.06-.94 2.06-2.06.94z\"/><path d=\"M17.41 7.96l-1.37-1.37c-.4-.4-.92-.59-1.43-.59-.52 0-1.04.2-1.43.59L10.3 9.45l-7.72 7.72c-.78.78-.78 2.05 0 2.83L4 21.41c.39.39.9.59 1.41.59.51 0 1.02-.2 1.41-.59l7.78-7.78 2.81-2.81c.8-.78.8-2.07 0-2.86zM5.41 20L4 18.59l7.72-7.72 1.47 1.35L5.41 20z\"/>\n",
              "  </svg>\n",
              "      </button>\n",
              "      \n",
              "  <style>\n",
              "    .colab-df-container {\n",
              "      display:flex;\n",
              "      flex-wrap:wrap;\n",
              "      gap: 12px;\n",
              "    }\n",
              "\n",
              "    .colab-df-convert {\n",
              "      background-color: #E8F0FE;\n",
              "      border: none;\n",
              "      border-radius: 50%;\n",
              "      cursor: pointer;\n",
              "      display: none;\n",
              "      fill: #1967D2;\n",
              "      height: 32px;\n",
              "      padding: 0 0 0 0;\n",
              "      width: 32px;\n",
              "    }\n",
              "\n",
              "    .colab-df-convert:hover {\n",
              "      background-color: #E2EBFA;\n",
              "      box-shadow: 0px 1px 2px rgba(60, 64, 67, 0.3), 0px 1px 3px 1px rgba(60, 64, 67, 0.15);\n",
              "      fill: #174EA6;\n",
              "    }\n",
              "\n",
              "    [theme=dark] .colab-df-convert {\n",
              "      background-color: #3B4455;\n",
              "      fill: #D2E3FC;\n",
              "    }\n",
              "\n",
              "    [theme=dark] .colab-df-convert:hover {\n",
              "      background-color: #434B5C;\n",
              "      box-shadow: 0px 1px 3px 1px rgba(0, 0, 0, 0.15);\n",
              "      filter: drop-shadow(0px 1px 2px rgba(0, 0, 0, 0.3));\n",
              "      fill: #FFFFFF;\n",
              "    }\n",
              "  </style>\n",
              "\n",
              "      <script>\n",
              "        const buttonEl =\n",
              "          document.querySelector('#df-41e4f010-79fc-4b5a-a17f-dc0ee88a9718 button.colab-df-convert');\n",
              "        buttonEl.style.display =\n",
              "          google.colab.kernel.accessAllowed ? 'block' : 'none';\n",
              "\n",
              "        async function convertToInteractive(key) {\n",
              "          const element = document.querySelector('#df-41e4f010-79fc-4b5a-a17f-dc0ee88a9718');\n",
              "          const dataTable =\n",
              "            await google.colab.kernel.invokeFunction('convertToInteractive',\n",
              "                                                     [key], {});\n",
              "          if (!dataTable) return;\n",
              "\n",
              "          const docLinkHtml = 'Like what you see? Visit the ' +\n",
              "            '<a target=\"_blank\" href=https://colab.research.google.com/notebooks/data_table.ipynb>data table notebook</a>'\n",
              "            + ' to learn more about interactive tables.';\n",
              "          element.innerHTML = '';\n",
              "          dataTable['output_type'] = 'display_data';\n",
              "          await google.colab.output.renderOutput(dataTable, element);\n",
              "          const docLink = document.createElement('div');\n",
              "          docLink.innerHTML = docLinkHtml;\n",
              "          element.appendChild(docLink);\n",
              "        }\n",
              "      </script>\n",
              "    </div>\n",
              "  </div>\n",
              "  "
            ],
            "text/plain": [
              "             CRIM        ZN     INDUS  ...         B     LSTAT      MEDV\n",
              "CRIM     1.000000 -0.043973  0.091565  ... -0.130261  0.164769 -0.062377\n",
              "ZN      -0.043973  1.000000 -0.535204  ...  0.169627 -0.416428  0.329617\n",
              "INDUS    0.091565 -0.535204  1.000000  ... -0.348580  0.574521 -0.466824\n",
              "CHAS    -0.025526 -0.056145  0.051176  ...  0.051172 -0.045242  0.136133\n",
              "NOX      0.064677 -0.199227  0.285574  ... -0.191198  0.139616 -0.096679\n",
              "RM       0.001549  0.049612 -0.050867  ... -0.013818 -0.138456  0.177695\n",
              "AGE      0.087602 -0.591852  0.638676  ... -0.246945  0.588293 -0.370277\n",
              "DIS     -0.029068  0.070443 -0.113686  ...  0.072580 -0.038791  0.035922\n",
              "RAD      0.138293 -0.308803  0.587486  ... -0.454903  0.481177 -0.391831\n",
              "TAX      0.130049 -0.297583  0.702531  ... -0.445981  0.522296 -0.466507\n",
              "PTRATIO  0.056815 -0.359189  0.366717  ... -0.181491  0.404244 -0.539146\n",
              "B       -0.130261  0.169627 -0.348580  ...  1.000000 -0.354363  0.327350\n",
              "LSTAT    0.164769 -0.416428  0.574521  ... -0.354363  1.000000 -0.730608\n",
              "MEDV    -0.062377  0.329617 -0.466824  ...  0.327350 -0.730608  1.000000\n",
              "\n",
              "[14 rows x 14 columns]"
            ]
          },
          "metadata": {},
          "execution_count": 71
        }
      ]
    },
    {
      "cell_type": "markdown",
      "source": [
        "Vamos observar quais dados tem maior correlação com MEDV:"
      ],
      "metadata": {
        "id": "zkoVVY5l80NU"
      }
    },
    {
      "cell_type": "code",
      "source": [
        "corr_matrix[\"MEDV\"].sort_values(ascending=False)"
      ],
      "metadata": {
        "colab": {
          "base_uri": "https://localhost:8080/"
        },
        "id": "7ietgk3B9Nvi",
        "outputId": "0419c0b0-0c8d-45ab-a2ba-7fbca30eeac9"
      },
      "execution_count": null,
      "outputs": [
        {
          "output_type": "execute_result",
          "data": {
            "text/plain": [
              "MEDV       1.000000\n",
              "ZN         0.329617\n",
              "B          0.327350\n",
              "RM         0.177695\n",
              "CHAS       0.136133\n",
              "DIS        0.035922\n",
              "CRIM      -0.062377\n",
              "NOX       -0.096679\n",
              "AGE       -0.370277\n",
              "RAD       -0.391831\n",
              "TAX       -0.466507\n",
              "INDUS     -0.466824\n",
              "PTRATIO   -0.539146\n",
              "LSTAT     -0.730608\n",
              "Name: MEDV, dtype: float64"
            ]
          },
          "metadata": {},
          "execution_count": 72
        }
      ]
    },
    {
      "cell_type": "markdown",
      "source": [
        "Note que as correlações negativas também são importantes. O que parece ter uma maior correlação com MEDV é LSTAT. Vamos plotar esses dados um em relação ao outro: "
      ],
      "metadata": {
        "id": "KiiVK5qJ9f7Q"
      }
    },
    {
      "cell_type": "code",
      "source": [
        "boston_housing.plot(kind=\"scatter\", x=\"LSTAT\", y=\"MEDV\",\n",
        "             alpha=0.5)\n",
        "plt.axis([0, 35, 0, 55])"
      ],
      "metadata": {
        "colab": {
          "base_uri": "https://localhost:8080/",
          "height": 296
        },
        "id": "LAp0G-B5-V2e",
        "outputId": "44ea4099-10a6-4ae8-b1f2-e398b7dd7d9c"
      },
      "execution_count": null,
      "outputs": [
        {
          "output_type": "execute_result",
          "data": {
            "text/plain": [
              "(0.0, 35.0, 0.0, 55.0)"
            ]
          },
          "metadata": {},
          "execution_count": 73
        },
        {
          "output_type": "display_data",
          "data": {
            "image/png": "[encoded data removed]",
            "text/plain": [
              "<Figure size 432x288 with 1 Axes>"
            ]
          },
          "metadata": {
            "needs_background": "light"
          }
        }
      ]
    },
    {
      "cell_type": "markdown",
      "source": [
        "Podemos observar que, quando maior o índice LSTAT, menor o índice MEDV, uma correlação bem marcada.\n"
      ],
      "metadata": {
        "id": "sV9AIdNm_Bkj"
      }
    },
    {
      "cell_type": "markdown",
      "source": [
        "#Preparação dos dados\n",
        "\n",
        "Vamos agora preparar os dados para utilizar no Machine Learning. Primeiro, separamos a característica \"MEDV\" dos dados:"
      ],
      "metadata": {
        "id": "ScdC9fZ7RFyP"
      }
    },
    {
      "cell_type": "code",
      "source": [
        "boston_housing = strat_train_set.drop(\"MEDV\", axis=1) \n",
        "boston_housing_labels = strat_train_set[\"MEDV\"].copy()"
      ],
      "metadata": {
        "id": "KYKjK1glEq7a"
      },
      "execution_count": null,
      "outputs": []
    },
    {
      "cell_type": "markdown",
      "source": [
        "Verifica-se se existem dados faltantes:"
      ],
      "metadata": {
        "id": "laLSyZPlFRSg"
      }
    },
    {
      "cell_type": "code",
      "source": [
        "incomplete_rows = boston_housing[boston_housing.isnull().any(axis=1)].head() \n",
        "incomplete_rows"
      ],
      "metadata": {
        "colab": {
          "base_uri": "https://localhost:8080/",
          "height": 49
        },
        "id": "7Zlmx_HEFT7w",
        "outputId": "daf12929-082f-4958-d63a-9959adb87814"
      },
      "execution_count": null,
      "outputs": [
        {
          "output_type": "execute_result",
          "data": {
            "text/html": [
              "\n",
              "  <div id=\"df-2765bd4f-ccde-411f-90ee-598cc79ef3a9\">\n",
              "    <div class=\"colab-df-container\">\n",
              "      <div>\n",
              "<style scoped>\n",
              "    .dataframe tbody tr th:only-of-type {\n",
              "        vertical-align: middle;\n",
              "    }\n",
              "\n",
              "    .dataframe tbody tr th {\n",
              "        vertical-align: top;\n",
              "    }\n",
              "\n",
              "    .dataframe thead th {\n",
              "        text-align: right;\n",
              "    }\n",
              "</style>\n",
              "<table border=\"1\" class=\"dataframe\">\n",
              "  <thead>\n",
              "    <tr style=\"text-align: right;\">\n",
              "      <th></th>\n",
              "      <th>CRIM</th>\n",
              "      <th>ZN</th>\n",
              "      <th>INDUS</th>\n",
              "      <th>CHAS</th>\n",
              "      <th>NOX</th>\n",
              "      <th>RM</th>\n",
              "      <th>AGE</th>\n",
              "      <th>DIS</th>\n",
              "      <th>RAD</th>\n",
              "      <th>TAX</th>\n",
              "      <th>PTRATIO</th>\n",
              "      <th>B</th>\n",
              "      <th>LSTAT</th>\n",
              "    </tr>\n",
              "  </thead>\n",
              "  <tbody>\n",
              "  </tbody>\n",
              "</table>\n",
              "</div>\n",
              "      <button class=\"colab-df-convert\" onclick=\"convertToInteractive('df-2765bd4f-ccde-411f-90ee-598cc79ef3a9')\"\n",
              "              title=\"Convert this dataframe to an interactive table.\"\n",
              "              style=\"display:none;\">\n",
              "        \n",
              "  <svg xmlns=\"http://www.w3.org/2000/svg\" height=\"24px\"viewBox=\"0 0 24 24\"\n",
              "       width=\"24px\">\n",
              "    <path d=\"M0 0h24v24H0V0z\" fill=\"none\"/>\n",
              "    <path d=\"M18.56 5.44l.94 2.06.94-2.06 2.06-.94-2.06-.94-.94-2.06-.94 2.06-2.06.94zm-11 1L8.5 8.5l.94-2.06 2.06-.94-2.06-.94L8.5 2.5l-.94 2.06-2.06.94zm10 10l.94 2.06.94-2.06 2.06-.94-2.06-.94-.94-2.06-.94 2.06-2.06.94z\"/><path d=\"M17.41 7.96l-1.37-1.37c-.4-.4-.92-.59-1.43-.59-.52 0-1.04.2-1.43.59L10.3 9.45l-7.72 7.72c-.78.78-.78 2.05 0 2.83L4 21.41c.39.39.9.59 1.41.59.51 0 1.02-.2 1.41-.59l7.78-7.78 2.81-2.81c.8-.78.8-2.07 0-2.86zM5.41 20L4 18.59l7.72-7.72 1.47 1.35L5.41 20z\"/>\n",
              "  </svg>\n",
              "      </button>\n",
              "      \n",
              "  <style>\n",
              "    .colab-df-container {\n",
              "      display:flex;\n",
              "      flex-wrap:wrap;\n",
              "      gap: 12px;\n",
              "    }\n",
              "\n",
              "    .colab-df-convert {\n",
              "      background-color: #E8F0FE;\n",
              "      border: none;\n",
              "      border-radius: 50%;\n",
              "      cursor: pointer;\n",
              "      display: none;\n",
              "      fill: #1967D2;\n",
              "      height: 32px;\n",
              "      padding: 0 0 0 0;\n",
              "      width: 32px;\n",
              "    }\n",
              "\n",
              "    .colab-df-convert:hover {\n",
              "      background-color: #E2EBFA;\n",
              "      box-shadow: 0px 1px 2px rgba(60, 64, 67, 0.3), 0px 1px 3px 1px rgba(60, 64, 67, 0.15);\n",
              "      fill: #174EA6;\n",
              "    }\n",
              "\n",
              "    [theme=dark] .colab-df-convert {\n",
              "      background-color: #3B4455;\n",
              "      fill: #D2E3FC;\n",
              "    }\n",
              "\n",
              "    [theme=dark] .colab-df-convert:hover {\n",
              "      background-color: #434B5C;\n",
              "      box-shadow: 0px 1px 3px 1px rgba(0, 0, 0, 0.15);\n",
              "      filter: drop-shadow(0px 1px 2px rgba(0, 0, 0, 0.3));\n",
              "      fill: #FFFFFF;\n",
              "    }\n",
              "  </style>\n",
              "\n",
              "      <script>\n",
              "        const buttonEl =\n",
              "          document.querySelector('#df-2765bd4f-ccde-411f-90ee-598cc79ef3a9 button.colab-df-convert');\n",
              "        buttonEl.style.display =\n",
              "          google.colab.kernel.accessAllowed ? 'block' : 'none';\n",
              "\n",
              "        async function convertToInteractive(key) {\n",
              "          const element = document.querySelector('#df-2765bd4f-ccde-411f-90ee-598cc79ef3a9');\n",
              "          const dataTable =\n",
              "            await google.colab.kernel.invokeFunction('convertToInteractive',\n",
              "                                                     [key], {});\n",
              "          if (!dataTable) return;\n",
              "\n",
              "          const docLinkHtml = 'Like what you see? Visit the ' +\n",
              "            '<a target=\"_blank\" href=https://colab.research.google.com/notebooks/data_table.ipynb>data table notebook</a>'\n",
              "            + ' to learn more about interactive tables.';\n",
              "          element.innerHTML = '';\n",
              "          dataTable['output_type'] = 'display_data';\n",
              "          await google.colab.output.renderOutput(dataTable, element);\n",
              "          const docLink = document.createElement('div');\n",
              "          docLink.innerHTML = docLinkHtml;\n",
              "          element.appendChild(docLink);\n",
              "        }\n",
              "      </script>\n",
              "    </div>\n",
              "  </div>\n",
              "  "
            ],
            "text/plain": [
              "Empty DataFrame\n",
              "Columns: [CRIM, ZN, INDUS, CHAS, NOX, RM, AGE, DIS, RAD, TAX, PTRATIO, B, LSTAT]\n",
              "Index: []"
            ]
          },
          "metadata": {},
          "execution_count": 75
        }
      ]
    },
    {
      "cell_type": "markdown",
      "source": [
        "Não existe. Criaremos um pipeline para pré-processar os dados."
      ],
      "metadata": {
        "id": "68TN_RPVGwMl"
      }
    },
    {
      "cell_type": "code",
      "source": [
        "from sklearn.pipeline import Pipeline\n",
        "from sklearn.preprocessing import StandardScaler  \n",
        "\n",
        "pipeline = Pipeline([('std_scaler', StandardScaler()),]) #Aqui reescalamos as variáveis\n",
        "\n",
        "boston_housing_prepared = pipeline.fit_transform(boston_housing)"
      ],
      "metadata": {
        "id": "2dk59QLzG1_9"
      },
      "execution_count": null,
      "outputs": []
    },
    {
      "cell_type": "code",
      "source": [
        "print(boston_housing_prepared.shape)\n",
        "boston_housing_prepared"
      ],
      "metadata": {
        "colab": {
          "base_uri": "https://localhost:8080/"
        },
        "id": "7cVCaw6jHCMq",
        "outputId": "0fb7008c-d6db-4876-f0d4-f7cd0a65a2a2"
      },
      "execution_count": null,
      "outputs": [
        {
          "output_type": "stream",
          "name": "stdout",
          "text": [
            "(404, 13)\n"
          ]
        },
        {
          "output_type": "execute_result",
          "data": {
            "text/plain": [
              "array([[-0.09270062, -0.47409584, -0.39782071, ...,  1.10881235,\n",
              "         0.4177602 , -0.46552146],\n",
              "       [ 7.70814052, -0.47409584,  0.99420867, ...,  0.78234475,\n",
              "         0.25249633,  0.74179456],\n",
              "       [-0.09277091, -0.47409584,  0.22523646, ...,  0.08277131,\n",
              "         0.3260201 , -0.05607166],\n",
              "       ...,\n",
              "       [-0.08467848, -0.47409584,  0.99420867, ...,  0.78234475,\n",
              "        -3.44168879,  1.57611863],\n",
              "       [-0.09261445, -0.47409584, -0.20229457, ..., -0.05714337,\n",
              "         0.43465969, -0.14300963],\n",
              "       [-0.09262041, -0.47409584, -0.63858051, ..., -0.29033452,\n",
              "         0.44124391,  2.53383853]])"
            ]
          },
          "metadata": {},
          "execution_count": 77
        }
      ]
    },
    {
      "cell_type": "markdown",
      "source": [
        "#Comparar modelos\n",
        "\n",
        "Vamos testar 3 modelos de Machine Learning. O primeiro é regressão linear:"
      ],
      "metadata": {
        "id": "d6qovq7GIIbF"
      }
    },
    {
      "cell_type": "code",
      "source": [
        "from sklearn.linear_model import LinearRegression\n",
        "\n",
        "lin_reg = LinearRegression()\n",
        "lin_reg.fit(boston_housing_prepared, boston_housing_labels) "
      ],
      "metadata": {
        "colab": {
          "base_uri": "https://localhost:8080/"
        },
        "id": "TFsCTGYIIRBC",
        "outputId": "afac6b75-9cc2-48d8-d49c-ceb53d362dae"
      },
      "execution_count": null,
      "outputs": [
        {
          "output_type": "execute_result",
          "data": {
            "text/plain": [
              "LinearRegression()"
            ]
          },
          "metadata": {},
          "execution_count": 78
        }
      ]
    },
    {
      "cell_type": "markdown",
      "source": [
        "Vamos observar algumas previsões e comparar com os labels"
      ],
      "metadata": {
        "id": "GGcdnXeg9i4n"
      }
    },
    {
      "cell_type": "code",
      "source": [
        "some_data = boston_housing.iloc[:5]\n",
        "some_labels = boston_housing_labels.iloc[:5]\n",
        "some_data_prepared = pipeline.fit_transform(some_data)\n",
        "\n",
        "print(\"Predictions:\", lin_reg.predict(some_data_prepared))"
      ],
      "metadata": {
        "colab": {
          "base_uri": "https://localhost:8080/"
        },
        "id": "hN4LyEmVIe-j",
        "outputId": "de3eaaea-b01d-465b-caa2-d0d7b0caa3fc"
      },
      "execution_count": null,
      "outputs": [
        {
          "output_type": "stream",
          "name": "stdout",
          "text": [
            "Predictions: [22.24259806 21.77993767 20.95417914 23.13770718 24.55924022]\n"
          ]
        }
      ]
    },
    {
      "cell_type": "markdown",
      "source": [
        "Aqui vemos os Labels: Observe que os resultados não são tão diferentes:"
      ],
      "metadata": {
        "id": "PgMfjtI59pbF"
      }
    },
    {
      "cell_type": "code",
      "source": [
        "print(\"Labels:\", list(some_labels))"
      ],
      "metadata": {
        "colab": {
          "base_uri": "https://localhost:8080/"
        },
        "id": "iWS0c0WWIqy7",
        "outputId": "8b19899d-f643-422d-ee00-872c83a7a909"
      },
      "execution_count": null,
      "outputs": [
        {
          "output_type": "stream",
          "name": "stdout",
          "text": [
            "Labels: [27.5, 14.6, 21.2, 20.0, 22.7]\n"
          ]
        }
      ]
    },
    {
      "cell_type": "markdown",
      "source": [
        "Agora utilizaremos o modelo de Random_Forest:\n"
      ],
      "metadata": {
        "id": "QNa8ub2-94BT"
      }
    },
    {
      "cell_type": "code",
      "source": [
        "from sklearn.ensemble import RandomForestRegressor\n",
        "\n",
        "forest_reg = RandomForestRegressor(n_estimators=15, random_state=seed)\n",
        "forest_reg.fit(boston_housing_prepared, boston_housing_labels) "
      ],
      "metadata": {
        "colab": {
          "base_uri": "https://localhost:8080/"
        },
        "id": "rOn-cPuuN0Oi",
        "outputId": "16ff2249-06c3-407e-c29a-6757903e8f75"
      },
      "execution_count": null,
      "outputs": [
        {
          "output_type": "execute_result",
          "data": {
            "text/plain": [
              "RandomForestRegressor(n_estimators=15, random_state=31)"
            ]
          },
          "metadata": {},
          "execution_count": 81
        }
      ]
    },
    {
      "cell_type": "markdown",
      "source": [
        "Por último, utilizaremos o método kNN:"
      ],
      "metadata": {
        "id": "N9UGnS2k96U8"
      }
    },
    {
      "cell_type": "code",
      "source": [
        "from sklearn.neighbors import KNeighborsRegressor\n",
        "\n",
        "knn_reg = KNeighborsRegressor(n_neighbors=3)\n",
        "knn_reg.fit(boston_housing_prepared, boston_housing_labels) "
      ],
      "metadata": {
        "colab": {
          "base_uri": "https://localhost:8080/"
        },
        "id": "VgI_bwoI7aDv",
        "outputId": "c3d407ee-a817-4522-8900-112874f6991e"
      },
      "execution_count": null,
      "outputs": [
        {
          "output_type": "execute_result",
          "data": {
            "text/plain": [
              "KNeighborsRegressor(n_neighbors=3)"
            ]
          },
          "metadata": {},
          "execution_count": 82
        }
      ]
    },
    {
      "cell_type": "code",
      "source": [
        "#Criaremos outro modelo no qual mudamos o hiperparâmetro n_neighbors para 2:\n",
        "knn_reg_2n = KNeighborsRegressor(n_neighbors=2)\n",
        "knn_reg_2n.fit(boston_housing_prepared, boston_housing_labels) "
      ],
      "metadata": {
        "colab": {
          "base_uri": "https://localhost:8080/"
        },
        "id": "l4ZnysjuA0Zq",
        "outputId": "a07d95cb-ff30-464a-eca8-3379a6ed0edf"
      },
      "execution_count": null,
      "outputs": [
        {
          "output_type": "execute_result",
          "data": {
            "text/plain": [
              "KNeighborsRegressor(n_neighbors=2)"
            ]
          },
          "metadata": {},
          "execution_count": 83
        }
      ]
    },
    {
      "cell_type": "markdown",
      "source": [
        "Agora, verificaremos qual modelo é mais eficiente. Para isso, utilizaremos a raiz do erro quadrático médio em 10 pedaços dos nossos dados, e depois calcularemos a média dos erros em cada pedaço, fazendo assim uma validação cruzada. A validação cruzada, embora tenha um maior custo computacional, é mais eficiente e dá uma estimativa mais realista da eficácia fora do conjunto de treino. Como o custo computacional aqui é baixo, optei por esse método de validação.  \n",
        "\n",
        "Utilizamos a raiz do erro quadrático média para deixar a medida na mesma unidade dos nossos dados. Optei pelo erro quadrático médio ao invés do erro absoluto médio para tornar o modelo mais sensível a grandes erros. Essa decisão é arbitrária, mais justificativas dependem do que o cliente espera do resultado.\n",
        "\n"
      ],
      "metadata": {
        "id": "sI1hQ0Xx-RhD"
      }
    },
    {
      "cell_type": "code",
      "source": [
        "from sklearn.model_selection import cross_val_score"
      ],
      "metadata": {
        "id": "5bQkuppNMMyU"
      },
      "execution_count": null,
      "outputs": []
    },
    {
      "cell_type": "code",
      "source": [
        "def display_scores(scores):\n",
        "    print(\"Scores:\", scores)\n",
        "    print(\"Mean:\", scores.mean())\n",
        "    print(\"Standard deviation:\", scores.std())"
      ],
      "metadata": {
        "id": "iLWV-Kn3Mc3L"
      },
      "execution_count": null,
      "outputs": []
    },
    {
      "cell_type": "code",
      "source": [
        "lin_scores = cross_val_score(lin_reg, boston_housing_prepared, boston_housing_labels,\n",
        "                             scoring=\"neg_mean_squared_error\", cv=10)\n",
        "lin_rmse_scores = np.sqrt(-lin_scores)\n",
        "display_scores(lin_rmse_scores)"
      ],
      "metadata": {
        "colab": {
          "base_uri": "https://localhost:8080/"
        },
        "id": "5ekMwoMRNHSm",
        "outputId": "f033cdc4-77c5-47e0-d8b2-356057b81725"
      },
      "execution_count": null,
      "outputs": [
        {
          "output_type": "stream",
          "name": "stdout",
          "text": [
            "Scores: [5.65086869 6.16507344 6.76754083 4.26580158 5.29697322 6.30868999\n",
            " 4.3053879  6.47405353 5.64719042 5.90154923]\n",
            "Mean: 5.678312882279795\n",
            "Standard deviation: 0.8081472145584357\n"
          ]
        }
      ]
    },
    {
      "cell_type": "code",
      "source": [
        "forest_scores = cross_val_score(forest_reg, boston_housing_prepared, boston_housing_labels,\n",
        "                                scoring=\"neg_mean_squared_error\", cv=10)\n",
        "forest_rmse_scores = np.sqrt(-forest_scores)\n",
        "display_scores(forest_rmse_scores)"
      ],
      "metadata": {
        "colab": {
          "base_uri": "https://localhost:8080/"
        },
        "id": "ef52WMU3N8hC",
        "outputId": "38472f8b-92fe-4265-acd1-ce3d0f4b15e7"
      },
      "execution_count": null,
      "outputs": [
        {
          "output_type": "stream",
          "name": "stdout",
          "text": [
            "Scores: [3.83939316 3.92384442 5.12551289 3.32713554 2.73697298 3.683584\n",
            " 2.09610353 3.89005627 3.17171107 3.38533209]\n",
            "Mean: 3.5179645946549924\n",
            "Standard deviation: 0.7631306363962264\n"
          ]
        }
      ]
    },
    {
      "cell_type": "code",
      "source": [
        "knn_scores = cross_val_score(knn_reg, boston_housing_prepared, boston_housing_labels,\n",
        "                                scoring=\"neg_mean_squared_error\", cv=10)\n",
        "knn_rmse_scores = np.sqrt(-knn_scores)\n",
        "display_scores(knn_rmse_scores)"
      ],
      "metadata": {
        "colab": {
          "base_uri": "https://localhost:8080/"
        },
        "id": "WiFW2xBS75wu",
        "outputId": "75f583be-e82d-43dc-d2ab-961098769fb2"
      },
      "execution_count": null,
      "outputs": [
        {
          "output_type": "stream",
          "name": "stdout",
          "text": [
            "Scores: [5.89094662 5.86054744 6.26841785 5.12675642 3.96234358 7.26175484\n",
            " 5.1008496  6.03131872 5.56676148 5.81349962]\n",
            "Mean: 5.688319616597711\n",
            "Standard deviation: 0.8167309708374388\n"
          ]
        }
      ]
    },
    {
      "cell_type": "code",
      "source": [
        "knn_2n_scores = cross_val_score(knn_reg_2n, boston_housing_prepared, boston_housing_labels,\n",
        "                                scoring=\"neg_mean_squared_error\", cv=10)\n",
        "knn_2n_rmse_scores = np.sqrt(-knn_2n_scores)\n",
        "display_scores(knn_2n_rmse_scores)"
      ],
      "metadata": {
        "colab": {
          "base_uri": "https://localhost:8080/"
        },
        "id": "LJtQ4snvA8Dr",
        "outputId": "6473c734-aa3f-499f-b44f-d666820ba2ca"
      },
      "execution_count": null,
      "outputs": [
        {
          "output_type": "stream",
          "name": "stdout",
          "text": [
            "Scores: [6.29153031 5.89781894 5.75636975 4.65907193 4.90987525 6.53901273\n",
            " 5.58065296 5.68191209 5.14194151 5.50119305]\n",
            "Mean: 5.595937853170048\n",
            "Standard deviation: 0.5532832717735703\n"
          ]
        }
      ]
    },
    {
      "cell_type": "markdown",
      "source": [
        "Observe que ao diminuir o hiperparâmetro n_neighbors, obtivemos um erro menor no método kNN, se tornando o segundo melhor modelo de acordo com essa métrica. O terceiro melhor modelo é a regressão linear, enquanto o pior modelo foi o kNN com n_neighbors setado para três.\n",
        "O melhor modelo obtido foi o Random Forest."
      ],
      "metadata": {
        "id": "Ro7XIIomBzd8"
      }
    },
    {
      "cell_type": "markdown",
      "source": [
        "#Predições com o modelo escolhido\n",
        " \n",
        "Vamos realizar as predições com o conjunto de testes e calcular a raiz quadrática média do erro:"
      ],
      "metadata": {
        "id": "xRRrakwERo1l"
      }
    },
    {
      "cell_type": "code",
      "source": [
        "from sklearn.metrics import mean_squared_error as MSE\n",
        "\n",
        "x_test = strat_test_set.drop(\"MEDV\", axis=1)\n",
        "y_test = strat_test_set[\"MEDV\"].copy()\n",
        "\n",
        "x_test_prepared = pipeline.fit_transform(x_test)\n",
        "random_forest_prediction = forest_reg.predict(x_test_prepared)\n",
        "\n",
        "mse_random_forest = MSE(y_test, random_forest_prediction)\n",
        "rmse_random_forest = np.sqrt(mse_random_forest)\n",
        "\n",
        "print (rmse_random_forest)"
      ],
      "metadata": {
        "colab": {
          "base_uri": "https://localhost:8080/"
        },
        "id": "jeR4XD57FeiI",
        "outputId": "d5d62048-093b-4c63-9928-5aaaaf18a89c"
      },
      "execution_count": null,
      "outputs": [
        {
          "output_type": "stream",
          "name": "stdout",
          "text": [
            "3.508003485340207\n"
          ]
        }
      ]
    },
    {
      "cell_type": "markdown",
      "source": [
        "#Conclusão\n"
      ],
      "metadata": {
        "id": "KlAz65DTH6i-"
      }
    },
    {
      "cell_type": "markdown",
      "source": [
        "O melhor algoritmo encontrado, utilizando a validação cruzada e a métrica da raiz do erro médio quadrático, foi o Random Forest. No conjunto de testes, obtemos um erro aproximado de 3.508. Futuras melhorias na performance do algoritmo estariam ligadas a uma melhor seleção de hiperparâmetros para esse modelo."
      ],
      "metadata": {
        "id": "yUwlDpz5H828"
      }
    }
  ]
}